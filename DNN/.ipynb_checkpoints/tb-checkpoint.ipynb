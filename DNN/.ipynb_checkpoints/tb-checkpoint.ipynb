{
 "cells": [
  {
   "cell_type": "code",
   "execution_count": 1,
   "id": "e0d912cf",
   "metadata": {},
   "outputs": [],
   "source": [
    "%load_ext tensorboard"
   ]
  },
  {
   "cell_type": "code",
   "execution_count": null,
   "id": "5db07e2c",
   "metadata": {},
   "outputs": [
    {
     "name": "stdout",
     "output_type": "stream",
     "text": [
      "Generating or loading dataset\n",
      "Elapsed time for sampling CDS spreads 0.11684799194335938 s.\n",
      "\n",
      "Train CDS model\n",
      "Elapsed time for initializing 0.014041423797607422 s\n",
      "Epoch 1/30\n",
      "1024/1024 [==============================] - 11s 3ms/step - loss: 0.0107 - mae: 0.0031\n",
      "Epoch 2/30\n",
      "1024/1024 [==============================] - 3s 3ms/step - loss: 0.0042 - mae: 3.3638e-04\n",
      "Epoch 3/30\n",
      "1024/1024 [==============================] - 3s 3ms/step - loss: 0.0039 - mae: 2.8998e-04\n",
      "Epoch 4/30\n",
      "1024/1024 [==============================] - 3s 3ms/step - loss: 0.0035 - mae: 2.4350e-04\n",
      "Epoch 5/30\n",
      "1024/1024 [==============================] - 3s 3ms/step - loss: 0.0034 - mae: 2.4980e-04\n",
      "Epoch 6/30\n",
      "1024/1024 [==============================] - 3s 3ms/step - loss: 0.0034 - mae: 2.3913e-04\n",
      "Epoch 7/30\n",
      "1024/1024 [==============================] - 3s 3ms/step - loss: 0.0031 - mae: 2.2397e-04\n",
      "Epoch 8/30\n",
      "1024/1024 [==============================] - 3s 3ms/step - loss: 0.0029 - mae: 2.2536e-04\n",
      "Epoch 9/30\n",
      "1024/1024 [==============================] - 3s 3ms/step - loss: 0.0028 - mae: 2.1479e-04\n",
      "Epoch 10/30\n",
      "1024/1024 [==============================] - 3s 3ms/step - loss: 0.0028 - mae: 2.1189e-04\n",
      "Epoch 11/30\n",
      "1024/1024 [==============================] - 3s 3ms/step - loss: 0.0026 - mae: 1.9360e-04\n",
      "Epoch 12/30\n",
      "1024/1024 [==============================] - 3s 3ms/step - loss: 0.0025 - mae: 1.9700e-04\n",
      "Epoch 13/30\n",
      "1024/1024 [==============================] - 3s 3ms/step - loss: 0.0025 - mae: 1.9065e-04\n",
      "Epoch 14/30\n",
      "1024/1024 [==============================] - 3s 3ms/step - loss: 0.0024 - mae: 1.8356e-04\n",
      "Epoch 15/30\n",
      "1024/1024 [==============================] - 3s 3ms/step - loss: 0.0023 - mae: 1.7683e-04\n",
      "Epoch 16/30\n",
      "1024/1024 [==============================] - 3s 3ms/step - loss: 0.0023 - mae: 1.8408e-04\n",
      "Epoch 17/30\n",
      "1024/1024 [==============================] - 3s 3ms/step - loss: 0.0023 - mae: 1.7803e-04\n",
      "Epoch 18/30\n",
      "1024/1024 [==============================] - 3s 3ms/step - loss: 0.0022 - mae: 1.7097e-04\n",
      "Epoch 19/30\n",
      "1024/1024 [==============================] - 3s 3ms/step - loss: 0.0021 - mae: 1.7144e-04\n",
      "Epoch 20/30\n",
      "1024/1024 [==============================] - 4s 3ms/step - loss: 0.0021 - mae: 1.6131e-04\n",
      "Epoch 21/30\n",
      "1024/1024 [==============================] - 4s 3ms/step - loss: 0.0021 - mae: 1.7566e-04\n",
      "Epoch 22/30\n",
      "1024/1024 [==============================] - 4s 3ms/step - loss: 0.0021 - mae: 1.6488e-04\n",
      "Epoch 23/30\n",
      "1024/1024 [==============================] - 3s 3ms/step - loss: 0.0021 - mae: 1.7471e-04\n",
      "Epoch 24/30\n",
      "1024/1024 [==============================] - 3s 3ms/step - loss: 0.0020 - mae: 1.5103e-04\n",
      "Epoch 25/30\n",
      "1024/1024 [==============================] - 3s 3ms/step - loss: 0.0021 - mae: 1.5708e-04\n",
      "Epoch 26/30\n",
      " 393/1024 [==========>...................] - ETA: 2s - loss: 0.0021 - mae: 1.7723e-04"
     ]
    }
   ],
   "source": [
    "%run main.py"
   ]
  },
  {
   "cell_type": "code",
   "execution_count": 5,
   "id": "50de568d",
   "metadata": {},
   "outputs": [
    {
     "data": {
      "text/html": [
       "\n",
       "      <iframe id=\"tensorboard-frame-1551cf657c11c254\" width=\"100%\" height=\"800\" frameborder=\"0\">\n",
       "      </iframe>\n",
       "      <script>\n",
       "        (function() {\n",
       "          const frame = document.getElementById(\"tensorboard-frame-1551cf657c11c254\");\n",
       "          const url = new URL(\"/\", window.location);\n",
       "          const port = 6006;\n",
       "          if (port) {\n",
       "            url.port = port;\n",
       "          }\n",
       "          frame.src = url;\n",
       "        })();\n",
       "      </script>\n",
       "    "
      ],
      "text/plain": [
       "<IPython.core.display.HTML object>"
      ]
     },
     "metadata": {},
     "output_type": "display_data"
    }
   ],
   "source": [
    "%tensorboard --logdir=C:/Users/kevin/PycharmProjects/DeepCDO/logs/fit"
   ]
  },
  {
   "cell_type": "code",
   "execution_count": null,
   "id": "d8b8b113",
   "metadata": {},
   "outputs": [],
   "source": []
  }
 ],
 "metadata": {
  "kernelspec": {
   "display_name": "Python 3 (ipykernel)",
   "language": "python",
   "name": "python3"
  },
  "language_info": {
   "codemirror_mode": {
    "name": "ipython",
    "version": 3
   },
   "file_extension": ".py",
   "mimetype": "text/x-python",
   "name": "python",
   "nbconvert_exporter": "python",
   "pygments_lexer": "ipython3",
   "version": "3.9.7"
  }
 },
 "nbformat": 4,
 "nbformat_minor": 5
}
